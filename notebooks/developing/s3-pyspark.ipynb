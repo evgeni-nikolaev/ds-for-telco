{
 "cells": [
  {
   "cell_type": "code",
   "execution_count": null,
   "metadata": {},
   "outputs": [],
   "source": []
  },
  {
   "cell_type": "code",
   "execution_count": 1,
   "metadata": {},
   "outputs": [],
   "source": [
    "# install.packages('titanic', lib=mypkgdir )\n",
    "# install.packages('sparklyr', lib=mypkgdir)\n",
    "# install.packages('dplyr', lib=mypkgdir)\n",
    "# install.packages('ggplot2', lib=mypkgdir)\n",
    "# install.packages('purrr', lib=mypkgdir)\n",
    "# install.packages('tidyr', lib=mypkgdir)\n",
    "# install.packages('ndjson', lib=mypkgdir)"
   ]
  },
  {
   "cell_type": "code",
   "execution_count": 2,
   "metadata": {},
   "outputs": [],
   "source": [
    "from pyspark import SparkContext, SparkConf\n",
    "from pyspark.sql import SQLContext\n",
    "from pyspark.sql.types import *"
   ]
  },
  {
   "cell_type": "code",
   "execution_count": 3,
   "metadata": {},
   "outputs": [],
   "source": [
    "# Assure Hadoop conf dir is correct for DC/OS Data Science Engine\n",
    "import os,subprocess\n",
    "myenv = dict(os.environ, HADOOP_CONF_DIR=\"/mnt/mesos/sandbox\")"
   ]
  },
  {
   "cell_type": "code",
   "execution_count": 4,
   "metadata": {},
   "outputs": [],
   "source": [
    "# # Move data to HDFS for shared access if directory not already provided\n",
    "# subprocess.check_output('hdfs dfs -mkdir -p churndata/', shell=True, env=myenv)\n",
    "# subprocess.check_output('hdfs dfs -put -f ../data/churn.all churndata/', shell=True, env=myenv);"
   ]
  },
  {
   "cell_type": "code",
   "execution_count": 5,
   "metadata": {},
   "outputs": [],
   "source": [
    "conf = SparkConf().setAppName(\"test-me-some-s3\")\n",
    "# conf.set('fs.s3n.awsAccessKeyId', '<ACCESSKEY>')\n",
    "# conf.set('fs.s3n.awsSecretAccessKey', '<SECRET_KEY>')\n",
    "# conf.set('fs.s3a.awsAccessKeyId', '<ACCESSKEY>')\n",
    "# conf.set('fs.s3a.awsSecretAccessKey', '<SECRET_KEY>')\n",
    "# conf.set('fs.s3a.aws.credentials.provider', 'com.amazonaws.auth.InstanceProfileCredentialsProvider')\n",
    "\n",
    "sc = SparkContext(conf=conf)\n",
    "sql = SQLContext(sc)"
   ]
  },
  {
   "cell_type": "code",
   "execution_count": 6,
   "metadata": {},
   "outputs": [
    {
     "data": {
      "text/plain": [
       "dict_items([('spark.app.name', 'test-me-some-s3')])"
      ]
     },
     "execution_count": 6,
     "metadata": {},
     "output_type": "execute_result"
    }
   ],
   "source": [
    "# conf.set('fs.s3n.awsAccessKeyId', '<ACCESSKEY>')\n",
    "# conf.set('fs.s3n.awsSecretAccessKey', '<SECRET_KEY>')\n",
    "conf.getAll()"
   ]
  },
  {
   "cell_type": "code",
   "execution_count": 7,
   "metadata": {},
   "outputs": [],
   "source": [
    "# churn_data = sql.read.csv('churndata/churn.all', schema = schema)\n",
    "# sql.read.csv('s3n://gregorygrubbs/datasets/churn.all')"
   ]
  },
  {
   "cell_type": "code",
   "execution_count": 11,
   "metadata": {},
   "outputs": [
    {
     "data": {
      "text/plain": [
       "DataFrame[_c0: string, _c1: string, _c2: string, _c3: string, _c4: string, _c5: string, _c6: string, _c7: string, _c8: string, _c9: string, _c10: string, _c11: string, _c12: string, _c13: string, _c14: string, _c15: string, _c16: string, _c17: string, _c18: string, _c19: string, _c20: string]"
      ]
     },
     "execution_count": 11,
     "metadata": {},
     "output_type": "execute_result"
    }
   ],
   "source": [
    "sql.read.csv('s3a://gregorygrubbs/datasets/churn.all')"
   ]
  },
  {
   "cell_type": "code",
   "execution_count": null,
   "metadata": {},
   "outputs": [],
   "source": [
    "os.getenv('SPARK_HADOOP_FS_S3A_AWS_CREDENTIALS_PROVIDER')"
   ]
  }
 ],
 "metadata": {
  "kernelspec": {
   "display_name": "Python 3",
   "language": "python",
   "name": "python3"
  },
  "language_info": {
   "codemirror_mode": {
    "name": "ipython",
    "version": 3
   },
   "file_extension": ".py",
   "mimetype": "text/x-python",
   "name": "python",
   "nbconvert_exporter": "python",
   "pygments_lexer": "ipython3",
   "version": "3.6.7"
  }
 },
 "nbformat": 4,
 "nbformat_minor": 2
}
